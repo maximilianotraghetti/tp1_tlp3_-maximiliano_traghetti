{
 "cells": [
  {
   "cell_type": "markdown",
   "metadata": {},
   "source": [
    "# Criterios de evaluación.\n",
    "\n",
    "* Se deben utilizar nombres de variables descriptivos y claros (Utilizar la nomeclatura correspondiente para los nombres de variables).\n",
    "* Comentarios claros y concisos que expliquen el propósito de cada sección del código.\n",
    "* Entrega en tiempo y forma.\n",
    "* Todo el código desarrollado debe ser subido a un repositorio en GitHub (el nombre del repositorio de seguir la siguiente estructura: tp1_tlp3_nombre_apellido).\n",
    "\n",
    "\n",
    "**Aclaración: Para resolver las actividades se debe incertar casillas de codigo entre cada actividad del cuaderno de Jupyter**"
   ]
  },
  {
   "cell_type": "markdown",
   "metadata": {},
   "source": [
    "### 1. **Hola Mundo y Variables**\n",
    "\n",
    "   - **Actividad 1.1**: Deben escribir un programa que imprima \"¡Hola, Mundo!\" en la consola.\n",
    "   - **Actividad 1.2**: Deben crear una variable llamada `nombre` y hacer que el programa imprima un saludo personalizado: `Hola, <nombre>!`"
   ]
  },
  {
   "cell_type": "code",
   "execution_count": 21,
   "metadata": {},
   "outputs": [
    {
     "name": "stdout",
     "output_type": "stream",
     "text": [
      "¡Hola, Mundo!\n",
      "Hola, Maxi\n"
     ]
    }
   ],
   "source": [
    "\n",
    "# todo: Resolución\n",
    "Saludo = \"¡Hola, Mundo!\"\n",
    "nombre = \"Maxi\"\n",
    "Saludo_persona = (\"Hola, \" + nombre)\n",
    "print(Saludo)\n",
    "print(Saludo_persona)"
   ]
  },
  {
   "cell_type": "markdown",
   "metadata": {},
   "source": [
    "### 2. **Operaciones Matemáticas Básicas**\n",
    "\n",
    "   - **Actividad 1.1**: Crear un programa que pida al usuario dos números y realice las cuatro operaciones matemáticas básicas (suma, resta, multiplicación y división), imprimiendo los resultados.\n",
    "   - **Actividad 1.2**: Hacer que el programa calcule el promedio de los dos números."
   ]
  },
  {
   "cell_type": "code",
   "execution_count": 22,
   "metadata": {},
   "outputs": [
    {
     "name": "stdout",
     "output_type": "stream",
     "text": [
      "Suma: 8.0\n",
      "Resta: 0.0\n",
      "Multiplicación: 16.0\n",
      "División: 1.0\n",
      "Promedio: 4.0\n"
     ]
    }
   ],
   "source": [
    "\n",
    "# todo: Resolución\n",
    "num1 = float(input(\"Ingresa el primer número: \"))\n",
    "num2 = float(input(\"Ingresa el segundo número: \"))\n",
    "\n",
    "suma = num1 + num2\n",
    "resta = num1 - num2\n",
    "multiplicacion = num1 * num2\n",
    "division = num1 / num2 if num2 != 0 else \"No se puede dividir por cero\"\n",
    "promedio = (num1 + num2) / 2\n",
    "\n",
    "print(f\"Suma: {suma}\")\n",
    "print(f\"Resta: {resta}\")\n",
    "print(f\"Multiplicación: {multiplicacion}\")\n",
    "print(f\"División: {division}\")\n",
    "print(f\"Promedio: {promedio}\")\n"
   ]
  },
  {
   "cell_type": "markdown",
   "metadata": {},
   "source": [
    "### 3. **Condicionales (if-else)**\n",
    "\n",
    "   - **Actividad 1.1**: Escribir un programa que pida al usuario su edad y le diga si es mayor de edad (18 años o más).\n",
    "   - **Actividad 1.2**: Agregar un mensaje diferente para diferentes rangos de edad, como por ejemplo, si es un niño, adolescente o adulto."
   ]
  },
  {
   "cell_type": "code",
   "execution_count": 30,
   "metadata": {},
   "outputs": [
    {
     "name": "stdout",
     "output_type": "stream",
     "text": [
      "Es mayor de edad\n",
      "Es un adulto\n"
     ]
    }
   ],
   "source": [
    "# todo: Resolución\n",
    "edad = int(input(\"Ingrese su edad\" ))\n",
    "\n",
    "if edad > 18:\n",
    "    print(\"Es mayor de edad\")\n",
    "    print(\"Es un adulto\")\n",
    "elif edad > 12 < 18:\n",
    "    print(\"Es adolescente\")\n",
    "else:\n",
    "    print(\"Es un niño\")"
   ]
  },
  {
   "cell_type": "markdown",
   "metadata": {},
   "source": [
    "### 4. **Ciclos (while, for)**\n",
    "\n",
    "   - **Actividad 1.1**: Escribir un programa que imprima los números del 1 al 10 usando un bucle `for`.\n",
    "   - **Actividad 1.2**: Usar un bucle `while` para imprimir los números del 1 al 10, e imprimir solo aquellos números que sean divisibles por 2."
   ]
  },
  {
   "cell_type": "code",
   "execution_count": 50,
   "metadata": {},
   "outputs": [
    {
     "name": "stdout",
     "output_type": "stream",
     "text": [
      "1\n",
      "2\n",
      "3\n",
      "4\n",
      "5\n",
      "6\n",
      "7\n",
      "8\n",
      "9\n",
      "10\n",
      "2\n",
      "4\n",
      "6\n",
      "8\n",
      "10\n"
     ]
    }
   ],
   "source": [
    "\n",
    "# todo: Resolución\n",
    "contador = 1\n",
    "\n",
    "for i in range(1,11):\n",
    "    print(i)\n",
    "\n",
    "while contador <11:\n",
    "    if contador % 2 == 0: \n",
    "        print(contador)\n",
    "    contador += 1"
   ]
  },
  {
   "cell_type": "markdown",
   "metadata": {},
   "source": [
    "### 5. **Listas y Bucles**\n",
    "\n",
    "   - **Actividad 1.1**: Crear una lista con 5 números y escribir un programa que imprima cada número de la lista usando un bucle `for`.\n",
    "   - **Actividad 1.2**: Usar un bucle para calcular la suma de los números de la lista."
   ]
  },
  {
   "cell_type": "code",
   "execution_count": 78,
   "metadata": {},
   "outputs": [
    {
     "name": "stdout",
     "output_type": "stream",
     "text": [
      "1\n",
      "2\n",
      "3\n",
      "4\n",
      "5\n",
      "1\n",
      "3\n",
      "6\n",
      "10\n",
      "15\n"
     ]
    }
   ],
   "source": [
    "# todo: Resolución\n",
    "lista =[1, 2, 3, 4, 5]\n",
    "suma_total = 0\n",
    "\n",
    "for i in lista:\n",
    "    print(i)\n",
    "\n",
    "\n",
    "for num in lista: \n",
    "    suma_total += num\n",
    "    print(suma_total)"
   ]
  },
  {
   "cell_type": "markdown",
   "metadata": {},
   "source": [
    "### 6. **Funciones**\n",
    "\n",
    "   - **Actividad 1.1**: Escribir una función llamada `saludo` que reciba un nombre como parámetro y devuelva un saludo personalizado.\n",
    "   - **Actividad 1.2**: Crear una función que reciba dos números y devuelva su suma, resta, multiplicación y división."
   ]
  },
  {
   "cell_type": "code",
   "execution_count": 155,
   "metadata": {},
   "outputs": [
    {
     "name": "stdout",
     "output_type": "stream",
     "text": [
      "Hola, Maxi!\n",
      "(12, 8, 20, 5.0)\n"
     ]
    }
   ],
   "source": [
    "\n",
    "# todo: Resolución\n",
    "def saludar(nombre):\n",
    "    print(f\"Hola, {nombre}!\")\n",
    "saludar(\"Maxi\")\n",
    "\n",
    "def aritmetica(numero1, numero2):\n",
    "    def suma ():\n",
    "        return(numero1 + numero2)\n",
    "    \n",
    "    def resta():\n",
    "        return(numero1 - numero2)\n",
    "    \n",
    "    def multiplicacion():\n",
    "        return(numero1 * numero2)\n",
    "    \n",
    "    def division():\n",
    "        return(numero1 / numero2)\n",
    "    return suma(), resta(), multiplicacion(), division()\n",
    "\n",
    "resultado = aritmetica(10, 2)\n",
    "print(resultado)"
   ]
  },
  {
   "cell_type": "markdown",
   "metadata": {},
   "source": [
    "### 7. **Manejo de cadenas de texto**\n",
    "\n",
    "   - **Actividad 1.1**: Escribir un programa que pida al usuario su nombre y lo imprima en mayúsculas y en minúsculas.\n",
    "   - **Actividad 1.2**: Hacer que el programa imprima la longitud del nombre ingresado (no tener en cuenta los espacios en blanco)."
   ]
  },
  {
   "cell_type": "code",
   "execution_count": null,
   "metadata": {},
   "outputs": [
    {
     "name": "stdout",
     "output_type": "stream",
     "text": [
      "Nombre en mayúsculas: MAXIMILIANO DE JESUS TRAGHETTI\n",
      "Nombre en minúsculas: maximiliano de jesus traghetti\n",
      "Longitud del nombre sin espacios: 27\n"
     ]
    }
   ],
   "source": [
    "# todo: Resolución\n",
    "nombre = input(\"Ingresa tu nombre: \")\n",
    "print(f\"Nombre en mayúsculas: {nombre.upper()}\")\n",
    "print(f\"Nombre en minúsculas: {nombre.lower()}\")\n",
    "\n",
    "\n",
    "longitud = len(nombre.replace(\" \", \"\"))\n",
    "print(f\"Longitud del nombre sin espacios: {longitud}\")"
   ]
  },
  {
   "cell_type": "markdown",
   "metadata": {},
   "source": [
    "### 8. **Diccionarios**\n",
    "\n",
    "   - **Actividad1.1**: Crear un diccionario que contenga los nombres de tres personas como claves y sus edades como valores. El programa debe imprimir la edad de cada persona.\n",
    "   - **Actividad1.2**: Escribir un programa que pregunte al usuario un nombre, luego su edad y los agregue al diccionario."
   ]
  },
  {
   "cell_type": "code",
   "execution_count": 167,
   "metadata": {},
   "outputs": [
    {
     "name": "stdout",
     "output_type": "stream",
     "text": [
      "Ana tiene 25 años\n",
      "Carlos tiene 30 años\n",
      "Beatriz tiene 22 años\n",
      "Diccionario actualizado:\n",
      "{'Ana': 25, 'Carlos': 30, 'Beatriz': 22, 'Maxi': 18}\n"
     ]
    }
   ],
   "source": [
    "# todo: Resolución\n",
    "personas = {\"Ana\": 25, \"Carlos\": 30, \"Beatriz\": 22}\n",
    "for nombre, edad in personas.items():\n",
    "    print(f\"{nombre} tiene {edad} años\")\n",
    "\n",
    "\n",
    "nuevo_nombre = input(\"Ingresa un nombre: \")\n",
    "nueva_edad = int(input(\"Ingresa la edad: \"))\n",
    "personas[nuevo_nombre] = nueva_edad\n",
    "\n",
    "print(\"Diccionario actualizado:\")\n",
    "print(personas)\n"
   ]
  },
  {
   "cell_type": "markdown",
   "metadata": {},
   "source": [
    "### 9. **Números aleatorios**\n",
    "\n",
    "   - **Actividad 1.1**: Escribir un programa que genere 5 números aleatorios entre 1 y 100, lo imprima por consola y diga si es mayor o menor a 50.\n",
    "   - **Actividad 1.2**: Sumar los 5 números generados aleatoriamente y en caso de que el resultado sea mayor a 100, mostrar el valor antes de ser mayor a 100 y cuantos números se sumaron para llegar a dicho valor."
   ]
  },
  {
   "cell_type": "code",
   "execution_count": null,
   "metadata": {},
   "outputs": [
    {
     "name": "stdout",
     "output_type": "stream",
     "text": [
      "Números generados: [63, 66, 89, 56, 97]\n",
      "63 es mayor a 50\n",
      "66 es mayor a 50\n",
      "89 es mayor a 50\n",
      "56 es mayor a 50\n",
      "97 es mayor a 50\n",
      "La suma antes de superar 100 fue 63 con 1 números sumados\n",
      "Suma total: 129\n",
      "Números sumados: 2\n"
     ]
    }
   ],
   "source": [
    "# todo: Resolución\n",
    "\n",
    "import random\n",
    "\n",
    "numeros = [random.randint(1, 100) for _ in range(5)]\n",
    "print(\"Números generados:\", numeros)\n",
    "\n",
    "for num in numeros:\n",
    "    if num > 50:\n",
    "        print(f\"{num} es mayor a 50\")\n",
    "    else:\n",
    "        print(f\"{num} es menor o igual a 50\")\n",
    "\n",
    "\n",
    "suma_total = 0\n",
    "contador = 0\n",
    "\n",
    "for num in numeros:\n",
    "    suma_total += num\n",
    "    contador += 1\n",
    "    if suma_total > 100:\n",
    "        print(f\"La suma antes de superar 100 fue {suma_total - num} con {contador - 1} números sumados\")\n",
    "        break\n",
    "\n",
    "print(f\"Suma total: {suma_total}\")\n",
    "print(f\"Números sumados: {contador}\")\n"
   ]
  },
  {
   "cell_type": "markdown",
   "metadata": {},
   "source": [
    "### 10. **Proyecto Final: Calculadora**\n",
    "\n",
    "   - **Actividad 1.1**: Los estudiantes deben crear una calculadora básica que permita realizar operaciones de suma, resta, multiplicación y división con entradas del usuario. El programa debe pedir al usuario que elija la operación y luego introducir 2 números para realizar el cálculo.\n",
    "   - **Actividad 1.2**: Implementar una opción para que el usuario pueda continuar haciendo cálculos o salir del programa."
   ]
  },
  {
   "cell_type": "code",
   "execution_count": 173,
   "metadata": {},
   "outputs": [
    {
     "name": "stdout",
     "output_type": "stream",
     "text": [
      "Calculadora Básica\n",
      "1. Suma\n",
      "2. Resta\n",
      "3. Multiplicación\n",
      "4. División\n",
      "Resultado: 10.0\n"
     ]
    }
   ],
   "source": [
    "# todo: Resolución\n",
    "def calculadora():\n",
    "    print(\"Calculadora Básica\")\n",
    "    print(\"1. Suma\")\n",
    "    print(\"2. Resta\")\n",
    "    print(\"3. Multiplicación\")\n",
    "    print(\"4. División\")\n",
    "    \n",
    "    opcion = input(\"Elige una opción (1-4): \")\n",
    "    \n",
    "    num1 = float(input(\"Ingresa el primer número: \"))\n",
    "    num2 = float(input(\"Ingresa el segundo número: \"))\n",
    "    \n",
    "    if opcion == \"1\":\n",
    "        print(f\"Resultado: {num1 + num2}\")\n",
    "    elif opcion == \"2\":\n",
    "        print(f\"Resultado: {num1 - num2}\")\n",
    "    elif opcion == \"3\":\n",
    "        print(f\"Resultado: {num1 * num2}\")\n",
    "    elif opcion == \"4\":\n",
    "        if num2 != 0:\n",
    "            print(f\"Resultado: {num1 / num2}\")\n",
    "        else:\n",
    "            print(\"Error: No se puede dividir por cero.\")\n",
    "    else:\n",
    "        print(\"Opción inválida.\")\n",
    "\n",
    "calculadora()\n"
   ]
  },
  {
   "cell_type": "markdown",
   "metadata": {},
   "source": [
    "### EXTRA. **Juegos Simples (Adivina el número)**\n",
    "\n",
    "   - **Actividad 1.1**: Escribir un juego donde el programa elija un número aleatorio entre 1 y 100 y el usuario tenga que adivinarlo. El programa debe dar pistas si el número es mayor o menor.\n",
    "   - **Actividad 1.2**: Limitar el número de intentos y mostrar un mensaje de éxito o fracaso al final."
   ]
  }
 ],
 "metadata": {
  "kernelspec": {
   "display_name": "Python 3",
   "language": "python",
   "name": "python3"
  },
  "language_info": {
   "codemirror_mode": {
    "name": "ipython",
    "version": 3
   },
   "file_extension": ".py",
   "mimetype": "text/x-python",
   "name": "python",
   "nbconvert_exporter": "python",
   "pygments_lexer": "ipython3",
   "version": "3.13.2"
  }
 },
 "nbformat": 4,
 "nbformat_minor": 2
}
